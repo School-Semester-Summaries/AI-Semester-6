{
 "cells": [
  {
   "cell_type": "markdown",
   "metadata": {},
   "source": [
    "## Training my own Text-Recognition-Model (easyocr)"
   ]
  },
  {
   "cell_type": "markdown",
   "metadata": {},
   "source": [
    "## Imports"
   ]
  },
  {
   "cell_type": "code",
   "execution_count": 3,
   "metadata": {},
   "outputs": [],
   "source": [
    "import easyocr\n",
    "import re\n",
    "from matplotlib import pyplot as plt\n",
    "import PIL\n",
    "from PIL import Image"
   ]
  },
  {
   "cell_type": "code",
   "execution_count": 4,
   "metadata": {},
   "outputs": [
    {
     "name": "stderr",
     "output_type": "stream",
     "text": [
      "CUDA not available - defaulting to CPU. Note: This module is much faster with a GPU.\n",
      "CUDA not available - defaulting to CPU. Note: This module is much faster with a GPU.\n"
     ]
    },
    {
     "name": "stdout",
     "output_type": "stream",
     "text": [
      "Valhallan 529\n",
      "y4c\n",
      "<Pandation>\n",
      "------\n"
     ]
    },
    {
     "name": "stderr",
     "output_type": "stream",
     "text": [
      "CUDA not available - defaulting to CPU. Note: This module is much faster with a GPU.\n"
     ]
    },
    {
     "name": "stdout",
     "output_type": "stream",
     "text": [
      "CrossyChainsaw\n",
      "<Frost>\n",
      "------\n"
     ]
    },
    {
     "name": "stderr",
     "output_type": "stream",
     "text": [
      "CUDA not available - defaulting to CPU. Note: This module is much faster with a GPU.\n"
     ]
    },
    {
     "name": "stdout",
     "output_type": "stream",
     "text": [
      "Ivl World Champion 20\n",
      "Kurisu Makisc <3\n",
      "<Kingdom\n",
      "Org?\n",
      "------\n",
      "BCX Finalist '21\n",
      "Tahcr#FrccPalcstinc\n",
      "KAsccndcrs of Asgard>\n",
      "------\n"
     ]
    }
   ],
   "source": [
    "def extract_names_from_image_path(image_path):\n",
    "    # Create an OCR reader\n",
    "    # You can specify the language(s) you expect in the image\n",
    "    reader = easyocr.Reader(['en'])\n",
    "\n",
    "    # Perform OCR on the image\n",
    "    results = reader.readtext(image_path)\n",
    "    return results\n",
    "\n",
    "\n",
    "# Example usage:\n",
    "image_1 = './data/player_name_data/y4c.png'\n",
    "image_2 = './data/player_name_data/crossychainsaw.png'\n",
    "image_3 = './data/player_name_data/pavelski.png'\n",
    "image_4 = './data/player_name_data/taher.png'\n",
    "images = [image_1, image_2, image_3, image_4]\n",
    "\n",
    "for img in images:\n",
    "    extracted_names = extract_names_from_image_path(img)\n",
    "    for i in extracted_names: \n",
    "        print(i[1])\n",
    "    print('------')"
   ]
  },
  {
   "cell_type": "markdown",
   "metadata": {},
   "source": [
    "The accuracy is already quite good on easy-ocr. before we decide to train a model, let's first try to preprocess the data."
   ]
  },
  {
   "cell_type": "code",
   "execution_count": 25,
   "metadata": {},
   "outputs": [
    {
     "name": "stderr",
     "output_type": "stream",
     "text": [
      "CUDA not available - defaulting to CPU. Note: This module is much faster with a GPU.\n",
      "CUDA not available - defaulting to CPU. Note: This module is much faster with a GPU.\n"
     ]
    },
    {
     "name": "stdout",
     "output_type": "stream",
     "text": [
      "\n",
      "- Result -\n",
      "CrossyChainsaw\n",
      "<Frost>\n",
      "\n",
      "- Expected -\n",
      "CrossyChainsaw\n",
      "<Frost>\n",
      "\n",
      "--------------\n"
     ]
    },
    {
     "name": "stderr",
     "output_type": "stream",
     "text": [
      "CUDA not available - defaulting to CPU. Note: This module is much faster with a GPU.\n"
     ]
    },
    {
     "name": "stdout",
     "output_type": "stream",
     "text": [
      "\n",
      "- Result -\n",
      "Valhallan 529\n",
      "y4c\n",
      "<Pandation>\n",
      "\n",
      "- Expected -\n",
      "Valhallan S29\n",
      "y4c\n",
      "<Pandation>\n",
      "\n",
      "--------------\n"
     ]
    },
    {
     "name": "stderr",
     "output_type": "stream",
     "text": [
      "CUDA not available - defaulting to CPU. Note: This module is much faster with a GPU.\n"
     ]
    },
    {
     "name": "stdout",
     "output_type": "stream",
     "text": [
      "\n",
      "- Result -\n",
      "BCX Finalist '21\n",
      "Tahcr#FrccPalcstinc\n",
      "KAsccndcrs of Asgard>\n",
      "\n",
      "- Expected -\n",
      "BCX Finalist '21\n",
      "Taher#FreePalestine\n",
      "<Ascenders of Asgard>\n",
      "\n",
      "--------------\n",
      "\n",
      "- Result -\n",
      "Ivl World Champion 20\n",
      "Kurisu Makisc <3\n",
      "<Kingdom\n",
      "Org?\n",
      "\n",
      "- Expected -\n",
      "1v1 World Champion '20\n",
      "Kurisu Makise <3\n",
      "<Kingdom Org>\n",
      "\n",
      "--------------\n"
     ]
    }
   ],
   "source": [
    "def print_results(expected_string, img_path):\n",
    "    extracted_names = extract_names_from_image_path(img_path)\n",
    "    print()\n",
    "    print(\"- Result -\")\n",
    "    for i in extracted_names:\n",
    "        print(i[1])\n",
    "    print()\n",
    "    print(\"- Expected -\")\n",
    "    print(expected_string)\n",
    "    print()\n",
    "    print('--------------')\n",
    "\n",
    "print_results(\"CrossyChainsaw\\n<Frost>\",\"./data/player_name_data/crossychainsaw.png\")\n",
    "print_results(\"Valhallan S29\\ny4c\\n<Pandation>\",\"./data/player_name_data/y4c.png\")\n",
    "print_results(\"BCX Finalist '21\\nTaher#FreePalestine\\n<Ascenders of Asgard>\",\"./data/player_name_data/taher.png\")\n",
    "print_results(\"1v1 World Champion '20\\nKurisu Makise <3\\n<Kingdom Org>\",\"./data/player_name_data/pavelski.png\")"
   ]
  },
  {
   "cell_type": "markdown",
   "metadata": {},
   "source": [
    "As you can see, it only sees the capital `S` for a `5`. We can try to make the text white on black and opposite and play with the threshold and see if it helps."
   ]
  },
  {
   "cell_type": "code",
   "execution_count": 16,
   "metadata": {},
   "outputs": [
    {
     "data": {
      "text/plain": [
       "[([[3, 0], [125, 0], [125, 19], [3, 19]], 'Valhallan 529', 0.6857455419188873),\n",
       " ([[44, 16], [82, 16], [82, 40], [44, 40]], 'y4c', 0.6810355995836739),\n",
       " ([[9, 35], [119, 35], [119, 55], [9, 55]], '<Pandation>', 0.9678299343768599)]"
      ]
     },
     "execution_count": 16,
     "metadata": {},
     "output_type": "execute_result"
    }
   ],
   "source": [
    "for extracted_names"
   ]
  },
  {
   "cell_type": "markdown",
   "metadata": {},
   "source": []
  }
 ],
 "metadata": {
  "kernelspec": {
   "display_name": "opencv39",
   "language": "python",
   "name": "python3"
  },
  "language_info": {
   "codemirror_mode": {
    "name": "ipython",
    "version": 3
   },
   "file_extension": ".py",
   "mimetype": "text/x-python",
   "name": "python",
   "nbconvert_exporter": "python",
   "pygments_lexer": "ipython3",
   "version": "3.9.18"
  }
 },
 "nbformat": 4,
 "nbformat_minor": 2
}
