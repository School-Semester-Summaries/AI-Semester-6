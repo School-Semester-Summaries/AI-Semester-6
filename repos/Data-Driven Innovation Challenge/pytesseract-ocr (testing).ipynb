{
 "cells": [
  {
   "cell_type": "markdown",
   "metadata": {},
   "source": [
    "# Train OCR on Custom Font (PyTesseract)\n",
    "I tried out the OCR of PyTesseract and the OCR is very accurate, but not 100% accurate. I am sure that if I train the OCR on my font, that it will perform better."
   ]
  },
  {
   "cell_type": "markdown",
   "metadata": {},
   "source": [
    "### Import Dependencies"
   ]
  },
  {
   "cell_type": "code",
   "execution_count": 2,
   "metadata": {},
   "outputs": [
    {
     "name": "stdout",
     "output_type": "stream",
     "text": [
      "python: 3.9.18 \n",
      "PIL: 9.5.0\n",
      "pytesseract: 0.3.10\n"
     ]
    }
   ],
   "source": [
    "import sys\n",
    "import PIL\n",
    "from PIL import Image\n",
    "import pytesseract\n",
    "pytesseract.pytesseract.tesseract_cmd = r'C:/Users/kaan-/AppData/Local/Programs/Tesseract-OCR/tesseract.exe'\n",
    "\n",
    "print(\"python: \" + sys.version[0:7])\n",
    "print(\"PIL: \" + PIL.__version__)\n",
    "print(\"pytesseract: \" + pytesseract.__version__)"
   ]
  },
  {
   "cell_type": "markdown",
   "metadata": {},
   "source": [
    "### Test the OCR\n",
    "Here you can see 4 examples on how accurate the OCR is"
   ]
  },
  {
   "cell_type": "markdown",
   "metadata": {},
   "source": [
    "example 1:"
   ]
  },
  {
   "cell_type": "code",
   "execution_count": 3,
   "metadata": {},
   "outputs": [
    {
     "name": "stdout",
     "output_type": "stream",
     "text": [
      "- Result -\n",
      "CrossyChainsaw\n",
      "<Frost>\n",
      "\n",
      "- Expected -\n",
      "CrossyChainsaw\n",
      "<Frost>\n"
     ]
    }
   ],
   "source": [
    "expected_string = \"CrossyChainsaw\\n<Frost>\"\n",
    "img_file = \"./data/player_name_data/crossychainsaw.png\"\n",
    "img = Image.open(img_file)\n",
    "ocr_result = pytesseract.image_to_string(img)\n",
    "print(\"- Result -\")\n",
    "print(ocr_result)\n",
    "print(\"- Expected -\")\n",
    "print(expected_string)"
   ]
  },
  {
   "cell_type": "markdown",
   "metadata": {},
   "source": [
    "example 2:"
   ]
  },
  {
   "cell_type": "code",
   "execution_count": 3,
   "metadata": {},
   "outputs": [
    {
     "name": "stdout",
     "output_type": "stream",
     "text": [
      "- Result -\n",
      "Iv1 World Champion “\n",
      "Kurisu Makise <3\n",
      "<Kingdom Org>\n",
      "\n",
      "- Expected -\n",
      "1v1 World Champion '20\n",
      "Kurisu Makise <3\n",
      "<Kingdom Org>\n"
     ]
    }
   ],
   "source": [
    "expected_string = \"1v1 World Champion '20\\nKurisu Makise <3\\n<Kingdom Org>\"\n",
    "img_file = \"./data/player_name_data/pavelski.png\"\n",
    "img = Image.open(img_file)\n",
    "ocr_result = pytesseract.image_to_string(img)\n",
    "print(\"- Result -\")\n",
    "print(ocr_result)\n",
    "print(\"- Expected -\")\n",
    "print(expected_string)"
   ]
  },
  {
   "cell_type": "markdown",
   "metadata": {},
   "source": [
    "example 3:"
   ]
  },
  {
   "cell_type": "code",
   "execution_count": 4,
   "metadata": {},
   "outputs": [
    {
     "name": "stdout",
     "output_type": "stream",
     "text": [
      "- Result -\n",
      "BCX Finalist ‘21\n",
      "Taher#FreePalestine\n",
      "<Ascenders of Asgard>\n",
      "\n",
      "- Expected -\n",
      "BCX Finalist '21\n",
      "Taher#FreePalestine\n",
      "<Ascenders of Asgard>\n"
     ]
    }
   ],
   "source": [
    "expected_string = \"BCX Finalist '21\\nTaher#FreePalestine\\n<Ascenders of Asgard>\"\n",
    "img_file = \"./data/player_name_data/taher.png\"\n",
    "img = Image.open(img_file)\n",
    "ocr_result = pytesseract.image_to_string(img)\n",
    "print(\"- Result -\")\n",
    "print(ocr_result)\n",
    "print(\"- Expected -\")\n",
    "print(expected_string)"
   ]
  },
  {
   "cell_type": "markdown",
   "metadata": {},
   "source": [
    "example 4:"
   ]
  },
  {
   "cell_type": "code",
   "execution_count": 5,
   "metadata": {},
   "outputs": [
    {
     "name": "stdout",
     "output_type": "stream",
     "text": [
      "- Result -\n",
      "Vaihatlan S29\n",
      "yac\n",
      "<Pandation>\n",
      "\n",
      "- Expected -\n",
      "Valhallan S29\n",
      "y4c\n",
      "<Pandation>\n"
     ]
    }
   ],
   "source": [
    "expected_string = \"Valhallan S29\\ny4c\\n<Pandation>\"\n",
    "img_file = \"./data/player_name_data/y4c.png\"\n",
    "img = Image.open(img_file)\n",
    "ocr_result = pytesseract.image_to_string(img)\n",
    "print(\"- Result -\")\n",
    "print(ocr_result)\n",
    "print(\"- Expected -\")\n",
    "print(expected_string)"
   ]
  },
  {
   "cell_type": "markdown",
   "metadata": {},
   "source": [
    "#### As you can see it is already pretty accurate, but we want a near perfect accuracy since this program will (in the end) be used for a big automised process."
   ]
  },
  {
   "cell_type": "markdown",
   "metadata": {},
   "source": [
    "I repeated the same training process over and over and over. I summed it up here so you have sort of an idea what is going on"
   ]
  },
  {
   "cell_type": "markdown",
   "metadata": {},
   "source": [
    "### 1. Generate .tif files off of text data\n",
    "we get all the values from `brawlhalla_names.csv` `brawlhalla_clans.csv` and `brawlhalla_titles.csv` and generate a .tif file. meaning we generate images where you can see the text on the image."
   ]
  },
  {
   "cell_type": "code",
   "execution_count": 31,
   "metadata": {},
   "outputs": [
    {
     "name": "stdout",
     "output_type": "stream",
     "text": [
      "107 images generated in ./attempt7\n",
      "102 images generated in ./attempt7\n",
      "411 images generated in ./attempt7\n"
     ]
    }
   ],
   "source": [
    "from PIL import Image, ImageDraw, ImageFont\n",
    "import os\n",
    "\n",
    "output_directory = './attempt7'\n",
    "os.makedirs(output_directory, exist_ok=True)\n",
    "\n",
    "text_file_path_1 = './data/brawlhalla_clans.csv'\n",
    "text_file_path_2 = './data/brawlhalla_titles.csv'\n",
    "text_file_path_3 = './data/brawlhalla_names.csv'\n",
    "# Replace with the path to your custom font file\n",
    "font_path = './ITC Eras Std Bold.otf'\n",
    "font_size = 24\n",
    "image_width = 600\n",
    "image_height = 100\n",
    "\n",
    "\n",
    "# clans\n",
    "with open(text_file_path_1, 'r', encoding='utf-8') as file:\n",
    "    lines = file.readlines()\n",
    "\n",
    "i_save=0\n",
    "for i, line in enumerate(lines):\n",
    "    image = Image.new('RGB', (image_width, image_height), color='white')\n",
    "    draw = ImageDraw.Draw(image)\n",
    "    font = ImageFont.truetype(font_path, font_size)\n",
    "\n",
    "    draw.text((10, 10), line.strip(), font=font, fill='black')\n",
    "\n",
    "    output_path = os.path.join(output_directory, f'image_{i+1}.tif')\n",
    "    image.save(output_path)\n",
    "    i_save = i\n",
    "print(f'{len(lines)} images generated in {output_directory}')\n",
    "\n",
    "\n",
    "# titles\n",
    "with open(text_file_path_2, 'r', encoding='utf-8') as file:\n",
    "    lines = file.readlines()\n",
    "\n",
    "i_save2=0\n",
    "for i, line in enumerate(lines):\n",
    "    image = Image.new('RGB', (image_width, image_height), color='white')\n",
    "    draw = ImageDraw.Draw(image)\n",
    "    font = ImageFont.truetype(font_path, font_size)\n",
    "\n",
    "    draw.text((10, 10), line.strip(), font=font, fill='black')\n",
    "\n",
    "    output_path = os.path.join(output_directory, f'image_{i+1+i_save}.tif')\n",
    "    image.save(output_path)\n",
    "    i_save2 = i+i_save\n",
    "print(f'{len(lines)} images generated in {output_directory}')\n",
    "\n",
    "\n",
    "# names\n",
    "with open(text_file_path_3, 'r', encoding='utf-8') as file:\n",
    "    lines = file.readlines()\n",
    "\n",
    "for i, line in enumerate(lines):\n",
    "    image = Image.new('RGB', (image_width, image_height), color='white')\n",
    "    draw = ImageDraw.Draw(image)\n",
    "    font = ImageFont.truetype(font_path, font_size)\n",
    "\n",
    "    draw.text((10, 10), line.strip(), font=font, fill='black')\n",
    "\n",
    "    output_path = os.path.join(output_directory, f'image_{i+1+i_save2}.tif')\n",
    "    image.save(output_path)\n",
    "print(f'{len(lines)} images generated in {output_directory}')"
   ]
  },
  {
   "cell_type": "markdown",
   "metadata": {},
   "source": [
    "Example of such .tif file"
   ]
  },
  {
   "cell_type": "code",
   "execution_count": 32,
   "metadata": {},
   "outputs": [
    {
     "data": {
      "image/png": "[encoded data removed]",
      "text/plain": [
       "<PIL.TiffImagePlugin.TiffImageFile image mode=RGB size=600x100>"
      ]
     },
     "execution_count": 32,
     "metadata": {},
     "output_type": "execute_result"
    }
   ],
   "source": [
    "Image.open('./attempt7/image_1.tif') # clan"
   ]
  },
  {
   "cell_type": "code",
   "execution_count": 33,
   "metadata": {},
   "outputs": [
    {
     "data": {
      "image/png": "[encoded data removed]",
      "text/plain": [
       "<PIL.TiffImagePlugin.TiffImageFile image mode=RGB size=600x100>"
      ]
     },
     "execution_count": 33,
     "metadata": {},
     "output_type": "execute_result"
    }
   ],
   "source": [
    "Image.open('./attempt7/image_179.tif') # Title"
   ]
  },
  {
   "cell_type": "code",
   "execution_count": 34,
   "metadata": {},
   "outputs": [
    {
     "data": {
      "image/png": "[encoded data removed]",
      "text/plain": [
       "<PIL.TiffImagePlugin.TiffImageFile image mode=RGB size=600x100>"
      ]
     },
     "execution_count": 34,
     "metadata": {},
     "output_type": "execute_result"
    }
   ],
   "source": [
    "Image.open('./attempt7/image_600.tif') # name"
   ]
  },
  {
   "cell_type": "markdown",
   "metadata": {},
   "source": [
    "### 2. Generate .box files off of .tif files\n",
    "A box file is basically a file wherein foreach character it gives a boundary box. this will be used for training later. To do this we need to navigate to the folder with all the .tif images and run the command below. this generates a single .box file, meaning we have to run this 618 times."
   ]
  },
  {
   "cell_type": "code",
   "execution_count": 35,
   "metadata": {},
   "outputs": [
    {
     "name": "stderr",
     "output_type": "stream",
     "text": [
      "Estimating resolution as 209\n"
     ]
    }
   ],
   "source": [
    "! cd attempt7 & tesseract image_1.tif image_1 batch.nochop makebox"
   ]
  },
  {
   "cell_type": "code",
   "execution_count": 64,
   "metadata": {},
   "outputs": [
    {
     "data": {
      "text/plain": [
       "'./attempt7/image_1.box'"
      ]
     },
     "execution_count": 64,
     "metadata": {},
     "output_type": "execute_result"
    }
   ],
   "source": [
    "box_file = './attempt7/image_1.box'\n",
    "box_file"
   ]
  },
  {
   "cell_type": "markdown",
   "metadata": {},
   "source": [
    "### 3. Generate .tr Files off of the .box files\n",
    "again, we need to run this for all 618 files, doing this in command line"
   ]
  },
  {
   "cell_type": "code",
   "execution_count": 36,
   "metadata": {},
   "outputs": [
    {
     "name": "stderr",
     "output_type": "stream",
     "text": [
      "Estimating resolution as 209\n",
      "APPLY_BOXES: boxfile line 4/y ((59,68),(76,89)): FAILURE! Couldn't find a matching blob\n",
      "APPLY_BOXES:\n",
      "   Boxes read from boxfile:       6\n",
      "   Boxes failed resegmentation:       1\n",
      "   Found 5 good blobs.\n",
      "Generated training data for 1 words\n"
     ]
    }
   ],
   "source": [
    "! cd attempt7 & tesseract image_1.tif image_1 box.train"
   ]
  },
  {
   "cell_type": "markdown",
   "metadata": {},
   "source": [
    "### 4. Extract Charset from all .box files\n",
    "we input all our boxfiles and extract a charset from it, the command is too long here, in the command line on windows i wasnt able to input 618 either. in windows commandline i was able to get a max of 590, (mora than in jupyter so i did it in windows)"
   ]
  },
  {
   "cell_type": "code",
   "execution_count": 38,
   "metadata": {},
   "outputs": [
    {
     "name": "stderr",
     "output_type": "stream",
     "text": [
      "The command line is too long.\n"
     ]
    }
   ],
   "source": [
    "! cd attempt7 & unicharset_extractor \"all_my_box_files\""
   ]
  },
  {
   "cell_type": "markdown",
   "metadata": {},
   "source": [
    "### 5. Train the data\n",
    "again too long to put here (kept going with only 590 files instead of all 618)"
   ]
  },
  {
   "cell_type": "code",
   "execution_count": null,
   "metadata": {},
   "outputs": [],
   "source": [
    "! cd attempt7 & mftraining -F font_properties -U unicharset -O train.unicharset \"all_my_training_files\"\n",
    "! cd attempt7 & cntraining \"all_my_training_files\""
   ]
  },
  {
   "cell_type": "markdown",
   "metadata": {},
   "source": [
    "### 6. Rename files\n",
    "we need to rename the files so we can merge them into one file later on"
   ]
  },
  {
   "cell_type": "code",
   "execution_count": 39,
   "metadata": {},
   "outputs": [],
   "source": [
    "!cd attempt7 & rename shapetable train.shapetable\n",
    "!cd attempt7 & rename inttemp train.inttemp\n",
    "!cd attempt7 & rename pffmtable train.pffmtable\n",
    "!cd attempt7 & rename normproto train.normproto"
   ]
  },
  {
   "cell_type": "markdown",
   "metadata": {},
   "source": [
    "### 7. Created traineddata file\n",
    "here we combine the 4 files we just renamed to one trained \"file\". this file should make the ocr \"smarter\""
   ]
  },
  {
   "cell_type": "code",
   "execution_count": 40,
   "metadata": {},
   "outputs": [
    {
     "name": "stdout",
     "output_type": "stream",
     "text": [
      "Combining tessdata files\n",
      "Output train.traineddata created successfully.\n"
     ]
    },
    {
     "name": "stderr",
     "output_type": "stream",
     "text": [
      "Version:v5.3.3.20231005\n",
      "1:unicharset:size=4681, offset=192\n",
      "3:inttemp:size=522794, offset=4873\n",
      "4:pffmtable:size=610, offset=527667\n",
      "5:normproto:size=9786, offset=528277\n",
      "13:shapetable:size=1444, offset=538063\n",
      "23:version:size=15, offset=539507\n"
     ]
    }
   ],
   "source": [
    "! cd attempt7 & combine_tessdata train."
   ]
  },
  {
   "cell_type": "markdown",
   "metadata": {},
   "source": [
    "### 8. move the train.traineddata to the correct folder\n",
    "I did this manually, we move the `train.traineddata` to the `tessdata` folder. This allows our OCR to use the traineddata"
   ]
  },
  {
   "cell_type": "markdown",
   "metadata": {},
   "source": [
    "### 9. Testing out new Model\n",
    "The model has been only trained on player names (don't mind if player clans or titles get displayed incorrectly). If the name gets displayed correctly now, it means it worked."
   ]
  },
  {
   "cell_type": "code",
   "execution_count": 47,
   "metadata": {},
   "outputs": [],
   "source": [
    "import os\n",
    "os.environ[\"TESSDATA_PREFIX\"] = \"C:\\\\Users\\\\kaan-\\\\AppData\\\\Local\\\\Programs\\\\Tesseract-OCR\\\\tessdata\""
   ]
  },
  {
   "cell_type": "code",
   "execution_count": 50,
   "metadata": {},
   "outputs": [
    {
     "name": "stdout",
     "output_type": "stream",
     "text": [
      "- Result -\n",
      "IvI Wodd Champoon '\n",
      "Kudsu Makise <3\n",
      "<xjngdom org>\n",
      "\n",
      "- Expected -\n",
      "1v1 World Champion '20\n",
      "Kurisu Makise <3\n",
      "<Kingdom Org>\n"
     ]
    }
   ],
   "source": [
    "expected_string = \"1v1 World Champion '20\\nKurisu Makise <3\\n<Kingdom Org>\"\n",
    "image_path = \"./data/player_name_data/pavelski.png\"\n",
    "custom_tessdata_dir = r'C:\\Users\\kaan-\\AppData\\Local\\Programs\\Tesseract-OCR\\tessdata'\n",
    "custom_language_code = \"train\"\n",
    "# custom_text = pytesseract.image_to_string(Image.open(image_path), config='--psm 6 --tessdata-dir \"C:\\\\Users\\\\kaan-\\\\AppData\\\\Local\\\\Programs\\\\Tesseract-OCR\\\\tessdata\"')\n",
    "custom_text = pytesseract.image_to_string(Image.open(image_path), config=f'--tessdata-dir \"{custom_tessdata_dir}\" -l {custom_language_code}')\n",
    "print(\"- Result -\")\n",
    "print(custom_text)\n",
    "print(\"- Expected -\")\n",
    "print(expected_string)"
   ]
  },
  {
   "cell_type": "code",
   "execution_count": 66,
   "metadata": {},
   "outputs": [
    {
     "name": "stdout",
     "output_type": "stream",
     "text": [
      "- First Result -\n",
      "Vaihatlan S29\n",
      "yac\n",
      "<Pandation>\n",
      "\n",
      "- Result Attempt 7 -\n",
      "Vzhdon S29\n",
      "y4c\n",
      "<Pandztlon>\n",
      "\n",
      "- Expected -\n",
      "Valhallan S29\n",
      "y4c\n",
      "<Pandation>\n"
     ]
    }
   ],
   "source": [
    "image_path = \"./data/player_name_data/y4c.png\"\n",
    "custom_tessdata_dir = r'C:\\Users\\kaan-\\AppData\\Local\\Programs\\Tesseract-OCR\\tessdata'\n",
    "custom_language_code = \"train\"\n",
    "# custom_text = pytesseract.image_to_string(Image.open(image_path), config='--psm 6 --tessdata-dir \"C:\\\\Users\\\\kaan-\\\\AppData\\\\Local\\\\Programs\\\\Tesseract-OCR\\\\tessdata\"')\n",
    "custom_text = pytesseract.image_to_string(Image.open(image_path), config=f'--tessdata-dir \"{custom_tessdata_dir}\" -l {custom_language_code}')\n",
    "old_result = pytesseract.image_to_string(image_path)\n",
    "print(\"- First Result -\")\n",
    "print(old_result)\n",
    "print(\"- Result Attempt 7 -\")\n",
    "print(custom_text)\n",
    "print(\"- Expected -\")\n",
    "expected_string = \"Valhallan S29\\ny4c\\n<Pandation>\"\n",
    "print(expected_string)"
   ]
  },
  {
   "cell_type": "markdown",
   "metadata": {},
   "source": [
    "## Conclusion\n",
    "as we can see, it is not working as expected. The only reason I can come up with is that the data we trained on is too different than the data we test on. "
   ]
  },
  {
   "cell_type": "markdown",
   "metadata": {},
   "source": [
    "#### Test Data"
   ]
  },
  {
   "cell_type": "code",
   "execution_count": 52,
   "metadata": {},
   "outputs": [
    {
     "data": {
      "image/png": "[encoded data removed]",
      "text/plain": [
       "<PIL.PngImagePlugin.PngImageFile image mode=RGBA size=231x64>"
      ]
     },
     "execution_count": 52,
     "metadata": {},
     "output_type": "execute_result"
    }
   ],
   "source": [
    "Image.open('./data/player_name_data/pavelski.png')"
   ]
  },
  {
   "cell_type": "markdown",
   "metadata": {},
   "source": [
    "#### Train Data\n",
    "Here is train data with similar text to the data we are testing"
   ]
  },
  {
   "cell_type": "code",
   "execution_count": 53,
   "metadata": {},
   "outputs": [
    {
     "data": {
      "image/png": "[encoded data removed]",
      "text/plain": [
       "<PIL.TiffImagePlugin.TiffImageFile image mode=RGB size=600x100>"
      ]
     },
     "execution_count": 53,
     "metadata": {},
     "output_type": "execute_result"
    }
   ],
   "source": [
    "Image.open('./attempt7/image_103.tif')"
   ]
  },
  {
   "cell_type": "code",
   "execution_count": 55,
   "metadata": {},
   "outputs": [
    {
     "data": {
      "image/png": "[encoded data removed]",
      "text/plain": [
       "<PIL.TiffImagePlugin.TiffImageFile image mode=RGB size=600x100>"
      ]
     },
     "execution_count": 55,
     "metadata": {},
     "output_type": "execute_result"
    }
   ],
   "source": [
    "Image.open('./attempt7/image_177.tif')"
   ]
  },
  {
   "cell_type": "markdown",
   "metadata": {},
   "source": [
    "So for a possible next iteration i could try to make the train data more like the test data, by adding a blue background and making the font smaller for example. "
   ]
  },
  {
   "cell_type": "markdown",
   "metadata": {},
   "source": [
    "<div style='background-color:yellow;font-size:80px;color:black;text-align:center;padding-top:10px;padding-bottom:10px'>Post Feedback</div>"
   ]
  },
  {
   "cell_type": "markdown",
   "metadata": {},
   "source": [
    "Let's try to preprocess the data we test on and see if we get better results"
   ]
  },
  {
   "cell_type": "markdown",
   "metadata": {},
   "source": [
    "## Finding best threshold (white text on black background, normalised pixel values)\n",
    "### Default Model\n",
    "I played around with the threshold and figured  60 is a good threshold for the original PyTesseract Model, making only 3 mistakes"
   ]
  },
  {
   "cell_type": "code",
   "execution_count": 58,
   "metadata": {},
   "outputs": [
    {
     "data": {
      "image/png": "[encoded data removed]",
      "text/plain": [
       "<PIL.Image.Image image mode=1 size=127x58>"
      ]
     },
     "execution_count": 58,
     "metadata": {},
     "output_type": "execute_result"
    }
   ],
   "source": [
    "threshold = 60\n",
    "test_image = Image.open('./data/player_name_data/y4c.png')\n",
    "grayscaled_test_image = test_image.convert('L')\n",
    "grayscaled_test_image\n",
    "black_and_white_image = grayscaled_test_image.point(lambda x: 0 if x < threshold else 255, '1')\n",
    "black_and_white_image"
   ]
  },
  {
   "cell_type": "code",
   "execution_count": 59,
   "metadata": {},
   "outputs": [
    {
     "name": "stdout",
     "output_type": "stream",
     "text": [
      "- First Result -\n",
      "Vathallan $29\n",
      "y4e\n",
      "<Pandation>\n",
      "\n",
      "- Result Attempt 7 -\n",
      "VthaIIan S29\n",
      "y4c\n",
      "<Panda( n>\n",
      "\n",
      "- Expected -\n",
      "Valhallan S29\n",
      "y4c\n",
      "<Pandation>\n"
     ]
    }
   ],
   "source": [
    "custom_tessdata_dir = r'C:\\Users\\kaan-\\AppData\\Local\\Programs\\Tesseract-OCR\\tessdata'\n",
    "custom_language_code = \"train\"\n",
    "\n",
    "custom_text = pytesseract.image_to_string(black_and_white_image, config=f'--tessdata-dir \"{custom_tessdata_dir}\" -l {custom_language_code}')\n",
    "old_result = pytesseract.image_to_string(black_and_white_image)\n",
    "print(\"- First Result -\")\n",
    "print(old_result)\n",
    "print(\"- Result Attempt 7 -\")\n",
    "print(custom_text)\n",
    "print(\"- Expected -\")\n",
    "expected_string = \"Valhallan S29\\ny4c\\n<Pandation>\"\n",
    "print(expected_string)"
   ]
  },
  {
   "cell_type": "markdown",
   "metadata": {},
   "source": [
    "### Custom Model\n",
    "For my custom trained model the best threshold is 68 with only 3 mistakes where one of the mistakess is using an upper instead of a lower case which is pretty impresive. My model doesnt appear to be as bad as i thought it was."
   ]
  },
  {
   "cell_type": "code",
   "execution_count": 106,
   "metadata": {},
   "outputs": [
    {
     "data": {
      "image/png": "[encoded data removed]",
      "text/plain": [
       "<PIL.Image.Image image mode=1 size=127x58>"
      ]
     },
     "execution_count": 106,
     "metadata": {},
     "output_type": "execute_result"
    }
   ],
   "source": [
    "threshold = 68\n",
    "test_image = Image.open('./data/player_name_data/y4c.png')\n",
    "grayscaled_test_image = test_image.convert('L')\n",
    "grayscaled_test_image\n",
    "black_and_white_image = grayscaled_test_image.point(lambda x: 0 if x < threshold else 255, '1')\n",
    "black_and_white_image"
   ]
  },
  {
   "cell_type": "code",
   "execution_count": 107,
   "metadata": {},
   "outputs": [
    {
     "name": "stdout",
     "output_type": "stream",
     "text": [
      "threshold: 68\n",
      "- First Result -\n",
      "Vaihallan $29\n",
      "ya\n",
      "<Pandation>\n",
      "\n",
      "- Result Attempt 7 -\n",
      "Valhallan S29\n",
      "y4C\n",
      "<Panda2lon>\n",
      "\n",
      "- Expected -\n",
      "Valhallan S29\n",
      "y4c\n",
      "<Pandation>\n"
     ]
    }
   ],
   "source": [
    "custom_tessdata_dir = r'C:\\Users\\kaan-\\AppData\\Local\\Programs\\Tesseract-OCR\\tessdata'\n",
    "custom_language_code = \"train\"\n",
    "\n",
    "custom_text = pytesseract.image_to_string(black_and_white_image, config=f'--tessdata-dir \"{custom_tessdata_dir}\" -l {custom_language_code}')\n",
    "old_result = pytesseract.image_to_string(black_and_white_image)\n",
    "print(f'threshold: {threshold}')\n",
    "print(\"- First Result -\")\n",
    "print(old_result)\n",
    "print(\"- Result Attempt 7 -\")\n",
    "print(custom_text)\n",
    "print(\"- Expected -\")\n",
    "expected_string = \"Valhallan S29\\ny4c\\n<Pandation>\"\n",
    "print(expected_string)"
   ]
  },
  {
   "cell_type": "markdown",
   "metadata": {},
   "source": [
    "## Finding Best Threshold (Black text on white background, normalised pixel values)\n",
    "### Default Model\n",
    "3 mistakes on threshold 60 for the default model"
   ]
  },
  {
   "cell_type": "code",
   "execution_count": 3,
   "metadata": {},
   "outputs": [
    {
     "data": {
      "image/png": "[encoded data removed]",
      "text/plain": [
       "<PIL.Image.Image image mode=1 size=127x58>"
      ]
     },
     "execution_count": 3,
     "metadata": {},
     "output_type": "execute_result"
    }
   ],
   "source": [
    "threshold = 60\n",
    "test_image = Image.open('./data/player_name_data/y4c.png')\n",
    "grayscaled_test_image = test_image.convert('L')\n",
    "grayscaled_test_image\n",
    "black_and_white_image = grayscaled_test_image.point(lambda x: 255 if x < threshold else 0, '1')\n",
    "black_and_white_image"
   ]
  },
  {
   "cell_type": "code",
   "execution_count": 4,
   "metadata": {},
   "outputs": [
    {
     "name": "stdout",
     "output_type": "stream",
     "text": [
      "- First Result -\n",
      "Vathallan $29\n",
      "\n",
      "yac\n",
      "<Pandation>\n",
      "\n",
      "- Result Attempt 7 -\n",
      "VthaIIan S29\n",
      "\n",
      "y4c\n",
      "<Panda(ion>\n",
      "\n",
      "- Expected -\n",
      "Valhallan S29\n",
      "y4c\n",
      "<Pandation>\n"
     ]
    }
   ],
   "source": [
    "custom_tessdata_dir = r'C:\\Users\\kaan-\\AppData\\Local\\Programs\\Tesseract-OCR\\tessdata'\n",
    "custom_language_code = \"train\"\n",
    "\n",
    "custom_text = pytesseract.image_to_string(\n",
    "    black_and_white_image, config=f'--tessdata-dir \"{custom_tessdata_dir}\" -l {custom_language_code}')\n",
    "old_result = pytesseract.image_to_string(black_and_white_image)\n",
    "print(\"- First Result -\")\n",
    "print(old_result)\n",
    "print(\"- Result Attempt 7 -\")\n",
    "print(custom_text)\n",
    "print(\"- Expected -\")\n",
    "expected_string = \"Valhallan S29\\ny4c\\n<Pandation>\"\n",
    "print(expected_string)"
   ]
  },
  {
   "cell_type": "markdown",
   "metadata": {},
   "source": [
    "### Custom Model\n",
    "2 mistakes on 58 for my own model"
   ]
  },
  {
   "cell_type": "code",
   "execution_count": 5,
   "metadata": {},
   "outputs": [
    {
     "data": {
      "image/png": "[encoded data removed]",
      "text/plain": [
       "<PIL.Image.Image image mode=1 size=127x58>"
      ]
     },
     "execution_count": 5,
     "metadata": {},
     "output_type": "execute_result"
    }
   ],
   "source": [
    "threshold = 58\n",
    "test_image = Image.open('./data/player_name_data/y4c.png')\n",
    "grayscaled_test_image = test_image.convert('L')\n",
    "grayscaled_test_image\n",
    "black_and_white_image = grayscaled_test_image.point(\n",
    "    lambda x: 255 if x < threshold else 0, '1')\n",
    "black_and_white_image"
   ]
  },
  {
   "cell_type": "code",
   "execution_count": 8,
   "metadata": {},
   "outputs": [
    {
     "name": "stdout",
     "output_type": "stream",
     "text": [
      "- First Result -\n",
      "Vathallan S29\n",
      "yt\n",
      "<Pandation>\n",
      "\n",
      "- Custom Model Result (Attempt 7) -\n",
      "Vthallan S29\n",
      "y4c\n",
      "<Pandation>\n",
      "\n",
      "- Expected -\n",
      "Valhallan S29\n",
      "y4c\n",
      "<Pandation>\n"
     ]
    }
   ],
   "source": [
    "custom_tessdata_dir = r'C:\\Users\\kaan-\\AppData\\Local\\Programs\\Tesseract-OCR\\tessdata'\n",
    "custom_language_code = \"train\"\n",
    "\n",
    "custom_text = pytesseract.image_to_string(\n",
    "    black_and_white_image, config=f'--tessdata-dir \"{custom_tessdata_dir}\" -l {custom_language_code}')\n",
    "old_result = pytesseract.image_to_string(black_and_white_image)\n",
    "print(\"- First Result -\")\n",
    "print(old_result)\n",
    "print(\"- Custom Model Result (Attempt 7) -\")\n",
    "print(custom_text)\n",
    "print(\"- Expected -\")\n",
    "expected_string = \"Valhallan S29\\ny4c\\n<Pandation>\"\n",
    "print(expected_string)"
   ]
  },
  {
   "cell_type": "code",
   "execution_count": 9,
   "metadata": {},
   "outputs": [
    {
     "data": {
      "image/png": "[encoded data removed]",
      "text/plain": [
       "<PIL.Image.Image image mode=1 size=231x64>"
      ]
     },
     "execution_count": 9,
     "metadata": {},
     "output_type": "execute_result"
    }
   ],
   "source": [
    "threshold = 58\n",
    "test_image = Image.open('./data/player_name_data/pavelski.png')\n",
    "grayscaled_test_image = test_image.convert('L')\n",
    "grayscaled_test_image\n",
    "black_and_white_image = grayscaled_test_image.point(\n",
    "    lambda x: 255 if x < threshold else 0, '1')\n",
    "black_and_white_image"
   ]
  },
  {
   "cell_type": "code",
   "execution_count": 10,
   "metadata": {},
   "outputs": [
    {
     "name": "stdout",
     "output_type": "stream",
     "text": [
      "- First Result -\n",
      "1v1 Wortd Champion ‘20\n",
      "Kurisu Makise <3\n",
      "<Kingdom Org>\n",
      "\n",
      "- Custom Model Result (Attempt 7) -\n",
      "Ivl World Chzmplon '20\n",
      "Kurisu Makise <3\n",
      "<ngdom org>\n",
      "\n",
      "- Expected -\n",
      "1v1 World Champion '20\n",
      "Kurisu Makise <3\n",
      "<Kingdom Org>\n"
     ]
    }
   ],
   "source": [
    "custom_tessdata_dir = r'C:\\Users\\kaan-\\AppData\\Local\\Programs\\Tesseract-OCR\\tessdata'\n",
    "custom_language_code = \"train\"\n",
    "\n",
    "custom_text = pytesseract.image_to_string(\n",
    "    black_and_white_image, config=f'--tessdata-dir \"{custom_tessdata_dir}\" -l {custom_language_code}')\n",
    "old_result = pytesseract.image_to_string(black_and_white_image)\n",
    "print(\"- First Result -\")\n",
    "print(old_result)\n",
    "print(\"- Custom Model Result (Attempt 7) -\")\n",
    "print(custom_text)\n",
    "print(\"- Expected -\")\n",
    "expected_string = \"1v1 World Champion '20\\nKurisu Makise <3\\n<Kingdom Org>\"\n",
    "print(expected_string)"
   ]
  },
  {
   "cell_type": "markdown",
   "metadata": {},
   "source": [
    "## What now?\n",
    "I think for now we can try to make the train data more similar to the test data. that sounds like the most logical step to do"
   ]
  },
  {
   "cell_type": "code",
   "execution_count": null,
   "metadata": {},
   "outputs": [],
   "source": []
  }
 ],
 "metadata": {
  "kernelspec": {
   "display_name": "Python 3",
   "language": "python",
   "name": "python3"
  },
  "language_info": {
   "codemirror_mode": {
    "name": "ipython",
    "version": 3
   },
   "file_extension": ".py",
   "mimetype": "text/x-python",
   "name": "python",
   "nbconvert_exporter": "python",
   "pygments_lexer": "ipython3",
   "version": "3.9.18"
  }
 },
 "nbformat": 4,
 "nbformat_minor": 2
}
