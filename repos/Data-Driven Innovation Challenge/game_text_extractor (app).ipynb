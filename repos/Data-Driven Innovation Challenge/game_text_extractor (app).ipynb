{
 "cells": [
  {
   "cell_type": "markdown",
   "metadata": {},
   "source": [
    "# Game Text Extractor (App)"
   ]
  },
  {
   "cell_type": "code",
   "execution_count": 3,
   "metadata": {},
   "outputs": [
    {
     "name": "stdout",
     "output_type": "stream",
     "text": [
      "pytesseract: 0.3.10\n",
      "OpenCV2: 4.9.0\n",
      "easyocr: 1.6.2\n",
      "python: 3.9.18 \n",
      "NumPy: 1.26.1\n",
      "PIL: 9.5.0\n"
     ]
    }
   ],
   "source": [
    "# env: opencv39\n",
    "from modules.crop_image import crop_image\n",
    "from modules.load_images_from_folder import load_images_from_folder, get_image_paths\n",
    "import easyocr\n",
    "import pytesseract\n",
    "from PIL import Image\n",
    "import PIL\n",
    "import sys\n",
    "import cv2\n",
    "import numpy as np\n",
    "import os\n",
    "\n",
    "pytesseract.pytesseract.tesseract_cmd = r'C:/Users/kaan-/AppData/Local/Programs/Tesseract-OCR/tesseract.exe'\n",
    "\n",
    "print(\"pytesseract: \" + pytesseract.__version__)  # 0.3.10\n",
    "print(\"OpenCV2: \" + cv2.__version__)  # 4.9.0\n",
    "print(\"easyocr: \" + easyocr.__version__) # 1.6.2\n",
    "print(\"python: \" + sys.version[0:7])  # 3.9.18\n",
    "print(\"NumPy: \" + np.__version__)  # 1.26.1\n",
    "print(\"PIL: \" + PIL.__version__)  # 9.5.0"
   ]
  },
  {
   "cell_type": "markdown",
   "metadata": {},
   "source": [
    "# Extract Matchmaking Frames from Video"
   ]
  },
  {
   "cell_type": "code",
   "execution_count": 6,
   "metadata": {},
   "outputs": [],
   "source": [
    "# Read the video from specified path\n",
    "MP4_FILE_NAME = \"stream-200-trimmed.mp4\"  # stream-200-trimmed.mp4\n",
    "TEMPLATE_IMG = \"./data/template_matching/templates/season_17_small_3.png\"  # season_17_small_3\n",
    "MINIMUM_ACCURACY = 0.95 # 0.95\n",
    "FRAME_SKIP = 205 # 205\n",
    "\n",
    "VIDEOS_PATH = \"./data/template_matching/videos/\"\n",
    "MP4_PATH = VIDEOS_PATH + MP4_FILE_NAME\n",
    "SAVE_LOC = \"./data/template_matching/videos_images/\" + \\\n",
    "    str(MP4_FILE_NAME[0:len(MP4_FILE_NAME)-4]) + \"/\""
   ]
  },
  {
   "cell_type": "code",
   "execution_count": 7,
   "metadata": {},
   "outputs": [
    {
     "name": "stdout",
     "output_type": "stream",
     "text": [
      "frame 0/5721: 0.452786922454834\n",
      "frame 205/5721: 0.4865720272064209\n",
      "frame 410/5721: 0.43140077590942383\n",
      "frame 615/5721: 0.5287557244300842\n",
      "frame 820/5721: 0.995058536529541\n",
      "frame 1025/5721: 0.4053811728954315\n",
      "frame 1230/5721: 0.3602357804775238\n",
      "frame 1435/5721: 0.44044771790504456\n",
      "frame 1640/5721: 0.4388488531112671\n",
      "frame 1845/5721: 0.32902321219444275\n",
      "frame 2050/5721: 0.4384862780570984\n",
      "frame 2255/5721: 0.4335598349571228\n",
      "frame 2460/5721: 0.3417956233024597\n",
      "frame 2665/5721: 0.41366785764694214\n",
      "frame 2870/5721: 0.40898600220680237\n",
      "frame 3075/5721: 0.4402392506599426\n",
      "frame 3280/5721: 0.4634716510772705\n",
      "frame 3485/5721: 0.256432443857193\n",
      "frame 3690/5721: 0.4412793517112732\n",
      "frame 3895/5721: 0.4428298771381378\n",
      "frame 4100/5721: 0.4414302110671997\n",
      "frame 4305/5721: 0.38717809319496155\n",
      "frame 4510/5721: 0.20553255081176758\n",
      "frame 4715/5721: 0.5047950148582458\n",
      "frame 4920/5721: 0.5718196630477905\n",
      "frame 5125/5721: 0.511805534362793\n",
      "frame 5330/5721: 0.9950686693191528\n",
      "frame 5535/5721: 0.4967774748802185\n",
      "breaking\n"
     ]
    }
   ],
   "source": [
    "def seconds_to_hms(seconds):\n",
    "    hours, remainder = divmod(seconds, 3600)\n",
    "    minutes, remaining_seconds = divmod(remainder, 60)\n",
    "    return int(hours), int(minutes), int(remaining_seconds)\n",
    "\n",
    "# try to create save folder\n",
    "try:\n",
    "    if not os.path.exists(SAVE_LOC):\n",
    "        os.makedirs(SAVE_LOC)\n",
    "except OSError:\n",
    "    print('Error: Creating directory of data')\n",
    "\n",
    "# variables\n",
    "\n",
    "cam = cv2.VideoCapture(MP4_PATH) # Load Video\n",
    "total_frames = int(cam.get(cv2.CAP_PROP_FRAME_COUNT))\n",
    "\n",
    "currentframe = 0\n",
    "\n",
    "\n",
    "while (True):\n",
    "\n",
    "    # read next frame\n",
    "    ret, frame = cam.read()\n",
    "    \n",
    "    # check if there is a next frame\n",
    "    try:\n",
    "        video_frame = frame.copy()\n",
    "    except:\n",
    "        print('breaking')\n",
    "        break\n",
    "\n",
    "    # every x frames try to match template\n",
    "    if currentframe % 205 == 0: # 240\n",
    "        # load template img\n",
    "        template = cv2.imread(TEMPLATE_IMG, 0)\n",
    "        \n",
    "        # greyscale the img\n",
    "        video_frame = cv2.cvtColor(video_frame, cv2.COLOR_BGR2GRAY)\n",
    "        \n",
    "        # match the template\n",
    "        result = cv2.matchTemplate(video_frame, template, cv2.TM_CCOEFF_NORMED)\n",
    "        \n",
    "        # break down the results\n",
    "        min_val, max_val, min_loc, max_loc = cv2.minMaxLoc(result)\n",
    "        \n",
    "        # print the frame\n",
    "        print(f\"frame {currentframe}/{total_frames}: {max_val}\")\n",
    "        \n",
    "        # if good match save img\n",
    "        if (max_val)>MINIMUM_ACCURACY:\n",
    "            # save img\n",
    "            seconds = currentframe*0.0333333333333333333\n",
    "            hours, minutes, seconds = seconds_to_hms(seconds)\n",
    "\n",
    "            file_name = f\"{SAVE_LOC}time_{hours}_{minutes}_{seconds}.jpg\"\n",
    "            cv2.imwrite(file_name, frame)\n",
    "\n",
    "    currentframe+=1\n",
    "\n",
    "\n",
    "# Release all space and windows once done\n",
    "cam.release()"
   ]
  },
  {
   "cell_type": "markdown",
   "metadata": {},
   "source": [
    "# Apply OCR to the Extracted images"
   ]
  },
  {
   "cell_type": "code",
   "execution_count": 8,
   "metadata": {},
   "outputs": [
    {
     "name": "stderr",
     "output_type": "stream",
     "text": [
      "CUDA not available - defaulting to CPU. Note: This module is much faster with a GPU.\n"
     ]
    },
    {
     "name": "stdout",
     "output_type": "stream",
     "text": [
      "./data/template_matching/videos_images/stream-200-trimmed/time_0_0_27.jpg\n"
     ]
    },
    {
     "name": "stderr",
     "output_type": "stream",
     "text": [
      "CUDA not available - defaulting to CPU. Note: This module is much faster with a GPU.\n"
     ]
    },
    {
     "name": "stdout",
     "output_type": "stream",
     "text": [
      "- easyocr (untrained) -\n",
      "Ollicial_Jokerz\n",
      "./data/template_matching/videos_images/stream-200-trimmed/time_0_2_57.jpg\n",
      "- easyocr (untrained) -\n",
      "ALoricn\n"
     ]
    }
   ],
   "source": [
    "THRESHOLD = 69\n",
    "DATA_PATH = f\"./data/template_matching/videos_images/{MP4_FILE_NAME[0:len(MP4_FILE_NAME)-4]}/\"\n",
    "CUSTOM_TESSDATA_DIR = r'C:\\Users\\kaan-\\AppData\\Local\\Programs\\Tesseract-OCR\\tessdata'\n",
    "CUSTOM_LANGUAGE_CODE = \"train\"\n",
    "CROPPED_IMAGES_SAVE_LOC = \"./data/template_matching/videos_images_cropped/\"\n",
    "#LEFT, TOP, RIGHT, BOTTOM = 1207, 320, 1440, 351 # screen recoring\n",
    "LEFT, TOP, RIGHT, BOTTOM = 800, 217, 967, 234 # downloaded youtube video\n",
    "IMAGES = load_images_from_folder(DATA_PATH)\n",
    "IMAGE_PATHS = get_image_paths(DATA_PATH)\n",
    "\n",
    "# crop image\n",
    "for path in IMAGE_PATHS:\n",
    "    # crop img\n",
    "    print(path)\n",
    "    cropped_img = crop_image(path, CROPPED_IMAGES_SAVE_LOC, LEFT, TOP, RIGHT, BOTTOM)\n",
    "\n",
    "    # grayscale img\n",
    "    grayscaled_test_image = cropped_img.convert('L')\n",
    "    grayscaled_test_image\n",
    "    black_and_white_image = grayscaled_test_image.point(lambda x: 0 if x < THRESHOLD else 255, '1')\n",
    "    black_and_white_image\n",
    "    \n",
    "    # pytesseract (ocr)\n",
    "    # old_result = pytesseract.image_to_string(black_and_white_image)\n",
    "    # print(\"- pytesseract (not trained) -\")\n",
    "    # print(old_result)\n",
    "    # custom_text = pytesseract.image_to_string(black_and_white_image, config=f'--tessdata-dir \"{CUSTOM_TESSDATA_DIR}\" -l {CUSTOM_LANGUAGE_CODE}')\n",
    "    # print(\"- pytesseract (trained model=7) -\")\n",
    "    # print(custom_text)\n",
    "\n",
    "    # easyocr\n",
    "    reader = easyocr.Reader(['en'])\n",
    "    results = reader.readtext(CROPPED_IMAGES_SAVE_LOC + \"cropped_temp.jpg\")\n",
    "    print(\"- easyocr (untrained) -\")\n",
    "    print(results[0][1])"
   ]
  },
  {
   "cell_type": "code",
   "execution_count": null,
   "metadata": {},
   "outputs": [],
   "source": []
  }
 ],
 "metadata": {
  "kernelspec": {
   "display_name": "opencv39",
   "language": "python",
   "name": "python3"
  },
  "language_info": {
   "codemirror_mode": {
    "name": "ipython",
    "version": 3
   },
   "file_extension": ".py",
   "mimetype": "text/x-python",
   "name": "python",
   "nbconvert_exporter": "python",
   "pygments_lexer": "ipython3",
   "version": "3.9.18"
  }
 },
 "nbformat": 4,
 "nbformat_minor": 2
}
